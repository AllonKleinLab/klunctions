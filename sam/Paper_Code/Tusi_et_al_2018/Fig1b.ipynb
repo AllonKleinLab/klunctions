{
 "cells": [
  {
   "cell_type": "code",
   "execution_count": 1,
   "metadata": {},
   "outputs": [],
   "source": [
    "%matplotlib inline\n",
    "\n",
    "from helper_functions import tot_counts_norm, load_genes\n",
    "import Fig1b_functions as helper\n",
    "\n",
    "import numpy as np\n",
    "import pandas as pd\n",
    "import scipy.sparse\n",
    "import matplotlib.pyplot as plt"
   ]
  },
  {
   "cell_type": "markdown",
   "metadata": {},
   "source": [
    "### Load raw data and filter cells"
   ]
  },
  {
   "cell_type": "code",
   "execution_count": 2,
   "metadata": {},
   "outputs": [],
   "source": [
    "\n",
    "# Data directory - for now, download from Dropbox and name folder \"data\"\n",
    "# https://www.dropbox.com/sh/stbd49qaenebi5s/AAB_uivDy-w1H-cryYnpG1Bia?dl=0\n",
    "# TO DO: upload files to server, add download link to website\n",
    "data_dir = 'data'\n",
    "\n",
    "# Load raw counts matrix\n",
    "counts_raw = scipy.sparse.load_npz('{}/bBM.raw_counts.unfiltered.npz'.format(data_dir))\n",
    "\n",
    "# Load gene names\n",
    "genes = np.array(load_genes('{}/genes.txt'.format(data_dir)))\n",
    "\n",
    "# Load 2-D embedding (SPRING)\n",
    "spring_coords = np.loadtxt('{}/bBM.spring_coords.csv'.format(data_dir), delimiter=',')\n",
    "\n",
    "# Load metadata (for filtering)\n",
    "metadata = pd.read_csv('{}/bBM.raw.meta.csv'.format(data_dir))\n",
    "\n",
    "# Filter cells as in final paper analyses\n",
    "cell_mask = np.array(metadata['pass_filter'] == 1)\n",
    "counts_raw = counts_raw[cell_mask, :]\n",
    "metadata = metadata[cell_mask]"
   ]
  },
  {
   "cell_type": "markdown",
   "metadata": {},
   "source": [
    "### Run total counts normalization"
   ]
  },
  {
   "cell_type": "code",
   "execution_count": 3,
   "metadata": {},
   "outputs": [
    {
     "name": "stdout",
     "output_type": "stream",
     "text": [
      "Excluded 8 genes from normalization\n"
     ]
    }
   ],
   "source": [
    "counts_norm = tot_counts_norm(counts_raw, exclude_dominant_frac=0.1)[0]"
   ]
  },
  {
   "cell_type": "markdown",
   "metadata": {},
   "source": [
    "### Define cell type labels, markers, and colors"
   ]
  },
  {
   "cell_type": "code",
   "execution_count": 4,
   "metadata": {},
   "outputs": [],
   "source": [
    "celltype_labels = ['E', 'GN', 'Ly', 'D', 'Meg', 'M', 'Ba', 'MPP']\n",
    "\n",
    "marker_gene_sets = [\n",
    "    ['Hbb-bt','Hba-a2','Hba-a1','Alas2','Bpgm'],\n",
    "    ['Lcn2','S100a8','Ltf','Lyz2','S100a9'],\n",
    "    ['Cd79a','Igll1','Vpreb3','Vpreb1','Lef1'],\n",
    "    ['H2-Aa','Cd74','H2-Eb1','H2-Ab1','Cst3'],\n",
    "    ['Pf4','Itga2b','Vwf','Pbx1','Mef2c'],\n",
    "    ['Csf1r','Ly6c2','Ccr2'],\n",
    "    ['Lmo4','Ifitm1','Ly6e','Srgn'],\n",
    "    ['Hlf','Gcnt2']\n",
    "]\n",
    "\n",
    "color_list = [\n",
    "    [1, 0.19, 0],\n",
    "    [0, 0.35, 1],\n",
    "    [0.02, 0.93, 0.95],\n",
    "    [0, 0, 0.82],\n",
    "    [0.5, 0, 0],\n",
    "    [0.72, 1, 0.25],\n",
    "    [1, 0.73, 0],\n",
    "    [0.5, 0, 0.5]\n",
    "]\n"
   ]
  },
  {
   "cell_type": "markdown",
   "metadata": {},
   "source": [
    "### Calculate marker gene scores for each cell and cell type"
   ]
  },
  {
   "cell_type": "code",
   "execution_count": 5,
   "metadata": {},
   "outputs": [],
   "source": [
    "scores = helper.get_marker_gene_scores(counts_norm, genes, celltype_labels, marker_gene_sets)"
   ]
  },
  {
   "cell_type": "markdown",
   "metadata": {},
   "source": [
    "### Plot all scores on a single plot"
   ]
  },
  {
   "cell_type": "code",
   "execution_count": 6,
   "metadata": {},
   "outputs": [
    {
     "data": {
      "image/png": "[encoded data removed]",
      "text/plain": [
       "<Figure size 216x288 with 1 Axes>"
      ]
     },
     "metadata": {},
     "output_type": "display_data"
    }
   ],
   "source": [
    "fig, ax = plt.subplots(figsize=(3,4))\n",
    "ax = helper.plot_multiple_scores(scores, \n",
    "                                 spring_coords, \n",
    "                                 celltype_labels,\n",
    "                                 color_list=color_list,\n",
    "                                 legend_font_size=10,\n",
    "                                 point_size=5,\n",
    "                                 ax=ax)"
   ]
  },
  {
   "cell_type": "code",
   "execution_count": null,
   "metadata": {},
   "outputs": [],
   "source": []
  }
 ],
 "metadata": {
  "kernelspec": {
   "display_name": "Python 3",
   "language": "python",
   "name": "python3"
  },
  "language_info": {
   "codemirror_mode": {
    "name": "ipython",
    "version": 3
   },
   "file_extension": ".py",
   "mimetype": "text/x-python",
   "name": "python",
   "nbconvert_exporter": "python",
   "pygments_lexer": "ipython3",
   "version": "3.6.7"
  }
 },
 "nbformat": 4,
 "nbformat_minor": 2
}
